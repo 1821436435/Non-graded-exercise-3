{
 "cells": [
  {
   "cell_type": "markdown",
   "metadata": {},
   "source": [
    "Create a treasure hunt game where a user has to figure out the location of the treasure on a grid by using just the commands of E, W, N, and S, indicating East, West, North, and South, respectively. \n",
    "\n",
    "REQUIREMENTS:\n",
    "1. Define the size of the grid. It could be any number, but start from 5\n",
    "2. Assign the player a random position on the map. Do the same for the location of the treasure. (HINT: use randint() to generate a random set of coordinates)\n",
    "    2.1. Since it's 2-dimensional grid, the location of both the player and the treasure will be coordinates, like (x,y)\n",
    "3. Decide the maximum moves the player can make and keep track of the number of moves.\n",
    "4. Calculate the initial distance between the player and the treasure location\n",
    "5. Allow player to make as many moves as maximum moves allowed\n",
    "    5.1. Depending on which direction the player moves (N, S, E, or W), recalculate player's position and their distance from the treasure location\n",
    "    5.2. If the move brings player closer to the treasure, let the user know that they are getting closer\n",
    "    5.3. If the move takes player away from the treasure, let the user know that they are moving farther\n",
    "    5.4. If the player makes an illegal move, then let the user know that that move is not allowed. \n",
    "    5.5. If the new player position is the same as the treasure position, let the user know that they have found the treasure\n",
    "    5.6. If the moves made by the player are the same as maximum moves allowed, let the user know that no more moves are possible and that they have lost the game. Also show them where the treasure was located.\n",
    "    5.7. If there are still moves left, then the game should continue and keep asking the user for their moves. \n"
   ]
  },
  {
   "cell_type": "code",
   "execution_count": 1,
   "metadata": {},
   "outputs": [
    {
     "name": "stdout",
     "output_type": "stream",
     "text": [
      "Welcome to the Treasure Hunt Game!\n",
      "You are currently at position [2, 3].\n",
      "The treasure is located at position [4, 3].\n",
      "The initial distance to the treasure is 2.00 units.\n",
      "You are moving farther away. Current distance to treasure: 2.24 units.\n",
      "You are moving farther away. Current distance to treasure: 3.16 units.\n",
      "Invalid move! Please enter N, S, E, or W.\n",
      "You are moving farther away. Current distance to treasure: 3.00 units.\n"
     ]
    }
   ],
   "source": [
    "import random\n",
    "import math\n",
    "\n",
    "def calculate_distance(player_pos, treasure_pos):\n",
    "    return math.sqrt((player_pos[0] - treasure_pos[0])**2 + (player_pos[1] - treasure_pos[1])**2)\n",
    "\n",
    "def main():\n",
    "    grid_size = 5\n",
    "    max_moves = 10\n",
    "    \n",
    "    # Generate random positions for player and treasure\n",
    "    player_position = [random.randint(0, grid_size - 1), random.randint(0, grid_size - 1)]\n",
    "    treasure_position = [random.randint(0, grid_size - 1), random.randint(0, grid_size - 1)]\n",
    "    \n",
    "    print(f\"Welcome to the Treasure Hunt Game!\")\n",
    "    print(f\"You are currently at position {player_position}.\")\n",
    "    \n",
    "    initial_distance = calculate_distance(player_position, treasure_position)\n",
    "    print(f\"The treasure is located at position {treasure_position}.\")\n",
    "    print(f\"The initial distance to the treasure is {initial_distance:.2f} units.\")\n",
    "    \n",
    "    moves_count = 0\n",
    "    \n",
    "    while moves_count < max_moves:\n",
    "        moves_count += 1\n",
    "        direction = input(\"Enter your move (N, S, E, W): \").upper()\n",
    "        \n",
    "        if direction not in ['N', 'S', 'E', 'W']:\n",
    "            print(\"Invalid move! Please enter N, S, E, or W.\")\n",
    "            continue\n",
    "        \n",
    "        # Update player's position based on direction\n",
    "        if direction == 'N':\n",
    "            player_position[1] += 1\n",
    "        elif direction == 'S':\n",
    "            player_position[1] -= 1\n",
    "        elif direction == 'E':\n",
    "            player_position[0] += 1\n",
    "        elif direction == 'W':\n",
    "            player_position[0] -= 1\n",
    "        \n",
    "        current_distance = calculate_distance(player_position, treasure_position)\n",
    "        \n",
    "        if player_position == treasure_position:\n",
    "            print(f\"Congratulations! You found the treasure at position {treasure_position} in {moves_count} moves.\")\n",
    "            break\n",
    "        \n",
    "        if current_distance < initial_distance:\n",
    "            print(f\"You are getting closer! Current distance to treasure: {current_distance:.2f} units.\")\n",
    "        elif current_distance > initial_distance:\n",
    "            print(f\"You are moving farther away. Current distance to treasure: {current_distance:.2f} units.\")\n",
    "        else:\n",
    "            print(f\"No change in distance. Current distance to treasure: {current_distance:.2f} units.\")\n",
    "        \n",
    "        if moves_count == max_moves:\n",
    "            print(f\"Game over! You did not find the treasure in {max_moves} moves.\")\n",
    "            print(f\"The treasure was located at position {treasure_position}.\")\n",
    "\n",
    "if __name__ == \"__main__\":\n",
    "    main()\n",
    "\n"
   ]
  }
 ],
 "metadata": {
  "kernelspec": {
   "display_name": "Python 3",
   "language": "python",
   "name": "python3"
  },
  "language_info": {
   "codemirror_mode": {
    "name": "ipython",
    "version": 3
   },
   "file_extension": ".py",
   "mimetype": "text/x-python",
   "name": "python",
   "nbconvert_exporter": "python",
   "pygments_lexer": "ipython3",
   "version": "3.12.5"
  }
 },
 "nbformat": 4,
 "nbformat_minor": 2
}
